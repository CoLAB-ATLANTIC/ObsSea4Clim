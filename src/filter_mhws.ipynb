{
 "cells": [
  {
   "cell_type": "code",
   "execution_count": 10,
   "metadata": {},
   "outputs": [],
   "source": [
    "%run imports_and_functions.py\n",
    "from collections import defaultdict, Counter\n",
    "check_overlap=False"
   ]
  },
  {
   "cell_type": "code",
   "execution_count": 11,
   "metadata": {},
   "outputs": [],
   "source": [
    "folder_path = '/media/eoserver/AnaO_ATL/JP_ATL/mhw_labeled_dataset/2d_detection/' #params.getp('output_folder')  # replace with your folder path\n",
    "substring = '.'\n",
    "files_with_substring = get_files_with_substring(folder_path, substring)\n",
    "files = [folder_path + file for file in files_with_substring]"
   ]
  },
  {
   "cell_type": "markdown",
   "metadata": {},
   "source": [
    "NEW TRY WHERE YOU DONT EDIT ANYTHING!! JUST RECORD NEW START AND END AND IN THE NEXT PHASE THE PROBLEM IS FIXED!!!"
   ]
  },
  {
   "cell_type": "code",
   "execution_count": 12,
   "metadata": {},
   "outputs": [],
   "source": [
    "dataset = xr.open_mfdataset(files, chunks={'time': 200})\n",
    "time_ds = dataset.time.values"
   ]
  },
  {
   "cell_type": "code",
   "execution_count": null,
   "metadata": {},
   "outputs": [],
   "source": [
    "cut_dates = dict() #record start, end, and cut stamps of mhws\n",
    "\n",
    "prev_frame = dataset.sel(time=time_ds[0])['mhw_label'].values\n",
    "prev_unique = list(np.unique(prev_frame))\n",
    "if check_overlap: prev_unique.remove(0)\n",
    "\n",
    "for lbl in prev_unique:\n",
    "    if lbl not in cut_dates.keys():\n",
    "        cut_dates[lbl] = list()\n",
    "        cut_dates[lbl].append(time_ds[0])\n",
    "\n",
    "for date in time_ds[1:]:\n",
    "    date = to_datetime(date); print(date.strftime('%Y-%m-%d'))\n",
    "\n",
    "    frame = dataset.sel(time=date)['mhw_label'].values\n",
    "\n",
    "    frame_lbls = list(np.unique(frame))\n",
    "\n",
    "    if check_overlap:\n",
    "        aux_labels=frame_lbls.copy(); aux_labels.remove(0)\n",
    "        #exception for last date: close every date\n",
    "        if date==to_datetime(time_ds[-1]):   \n",
    "            for aux_lbl in aux_labels:\n",
    "                if aux_lbl in cut_dates.keys():\n",
    "                    cut_dates[aux_lbl].append(date)\n",
    "        \n",
    "        # get new start_dates\n",
    "        for lbl in aux_labels:\n",
    "            if lbl not in cut_dates.keys():\n",
    "                cut_dates[lbl] = list()\n",
    "                cut_dates[lbl].append(date)\n",
    "\n",
    "        #encode combination of all possible labels\n",
    "        unique_codes, _ = get_unique_code(prev_unique, frame_lbls)\n",
    "        #get the pairing count for each label and total_overlap\n",
    "        label_match, total_overlap, _, _, _ = get_pairing_count(prev_frame, frame, prev_unique, frame_lbls, unique_codes)\n",
    "\n",
    "        # get new end dates ########################################################\n",
    "        for lbl, overlap_count in label_match.items():\n",
    "            # overlap condition OR mhw ended in prev_frame\n",
    "            if total_overlap[lbl]==0 or overlap_count/total_overlap[lbl] < 0.5:   #or overlap_count< min_pixels_per_frame\n",
    "                cut_dates[lbl].append(date-timedelta(days=1))\n",
    "    else:\n",
    "        frame_lbls.remove(0)\n",
    "        \n",
    "        #open labels\n",
    "        for lbl in frame_lbls:\n",
    "            if lbl not in cut_dates.keys():\n",
    "                cut_dates[lbl] = list()\n",
    "                cut_dates[lbl].append(date)\n",
    "        \n",
    "        #close labels   \n",
    "        for lbl in prev_unique:\n",
    "            if lbl not in frame_lbls:\n",
    "                cut_dates[lbl].append(date-timedelta(days=1))\n",
    "                \n",
    "        if date == time_ds[-1]:\n",
    "            for lbl in frame_lbls:\n",
    "                cut_dates[lbl].append(date)\n",
    "            \n",
    "\n",
    "    ###################################################################################### \n",
    "    prev_frame = frame\n",
    "    prev_unique = frame_lbls\n",
    "        \n",
    "dataset.close()\n",
    "\n",
    "if 0 in cut_dates.keys(): del cut_dates[0] #just in case\n",
    "\n",
    "if check_overlap: lbl_dates_dir = '/home/eoserver/beatriz/JP/data/lbl_dates.pkl'\n",
    "else: lbl_dates_dir = '/home/eoserver/beatriz/JP/data/lbl_dates_no_overlap.pkl'\n",
    "\n",
    "with open(lbl_dates_dir, 'wb') as outf:\n",
    "    pickle.dump(cut_dates, outf)"
   ]
  },
  {
   "cell_type": "code",
   "execution_count": null,
   "metadata": {},
   "outputs": [],
   "source": [
    "for lbl, date_list in cut_dates.items():\n",
    "    if len(date_list)<2:\n",
    "        print(f'{lbl}: {date_list}')"
   ]
  }
 ],
 "metadata": {
  "kernelspec": {
   "display_name": "gdal",
   "language": "python",
   "name": "python3"
  },
  "language_info": {
   "codemirror_mode": {
    "name": "ipython",
    "version": 3
   },
   "file_extension": ".py",
   "mimetype": "text/x-python",
   "name": "python",
   "nbconvert_exporter": "python",
   "pygments_lexer": "ipython3",
   "version": "3.1.undefined"
  }
 },
 "nbformat": 4,
 "nbformat_minor": 2
}
