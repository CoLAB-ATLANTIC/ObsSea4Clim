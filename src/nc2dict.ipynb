{
 "cells": [
  {
   "cell_type": "markdown",
   "metadata": {},
   "source": [
    "GET DICT AS BEFORE FROM NC FILES (THERE IS 1 NC FILE PER MHW)"
   ]
  },
  {
   "cell_type": "code",
   "execution_count": null,
   "metadata": {},
   "outputs": [],
   "source": [
    "%run nc2dict_functions\n",
    "\n",
    "#folder with mhws nc files\n",
    "folder_path = '/media/eoserver/AnaO_ATL/JP_ATL/MHW_DATASET_JUN_2D_DETECTION/'"
   ]
  },
  {
   "cell_type": "markdown",
   "metadata": {},
   "source": [
    "DEFINE YEAR RANGE HERE (PER DICTIONARY)"
   ]
  },
  {
   "cell_type": "code",
   "execution_count": null,
   "metadata": {},
   "outputs": [],
   "source": [
    "start_year = 2000 #1982\n",
    "end_year = 2002 #2022"
   ]
  },
  {
   "cell_type": "markdown",
   "metadata": {},
   "source": [
    "GET ONE DICT PER YEAR"
   ]
  },
  {
   "cell_type": "code",
   "execution_count": null,
   "metadata": {},
   "outputs": [],
   "source": [
    "save_dict_path= 'path/..../' #only the path, not the filename"
   ]
  },
  {
   "cell_type": "code",
   "execution_count": null,
   "metadata": {},
   "outputs": [],
   "source": [
    "files_with_substring = get_files_with_substring(folder_path, '.nc')\n",
    "\n",
    "files = [folder_path + file for file in files_with_substring]\n",
    "\n",
    "for year in range(start_year, end_year+1):\n",
    "    print(f'Converting MHW nc files to dictionary for {year}')\n",
    "    file_list = filter_files_by_year(files, year, year)\n",
    "    # Sort the file list by the extracted serial number\n",
    "    file_list = sorted(file_list, key=extract_serial_number)\n",
    "\n",
    "    mhw_dict=dict()\n",
    "    for file in file_list:\n",
    "        mhw = from_nc2dict(file, convert2string = False)\n",
    "        mhw_dict[mhw['ID']] = mhw\n",
    "    \n",
    "    save_path = save_dict_path + f'MHWs_{year}.csv'\n",
    "    \n",
    "    df = pd.DataFrame(mhw_dict); del mhw_dict\n",
    "    df = df.transpose()\n",
    "    df.to_csv(save_path, index=False)\n",
    "    del df"
   ]
  },
  {
   "cell_type": "markdown",
   "metadata": {},
   "source": [
    "GET DICTIONARY FOR THAT RANGE"
   ]
  },
  {
   "cell_type": "code",
   "execution_count": null,
   "metadata": {},
   "outputs": [],
   "source": [
    "files_with_substring = get_files_with_substring(folder_path, '.nc')\n",
    "\n",
    "files = [folder_path + file for file in files_with_substring]\n",
    "files = filter_files_by_year(files, start_year, end_year)\n",
    "# Sort the file list by the extracted serial number\n",
    "files = sorted(files, key=extract_serial_number)\n",
    "\n",
    "\n",
    "mhw_dict=dict()\n",
    "for file in files:\n",
    "    mhw = from_nc2dict(file, convert2string = False)\n",
    "    mhw_dict[mhw['ID']] = mhw"
   ]
  },
  {
   "cell_type": "markdown",
   "metadata": {},
   "source": [
    "If you want to save this dictionary"
   ]
  },
  {
   "cell_type": "code",
   "execution_count": null,
   "metadata": {},
   "outputs": [],
   "source": [
    "#if you want to save this dictionary\n",
    "save_dict_path='path/..../name...' #.pkl or .csv"
   ]
  },
  {
   "cell_type": "code",
   "execution_count": null,
   "metadata": {},
   "outputs": [],
   "source": [
    "#as pickle\n",
    "with open(save_dict_path, 'wb') as outf:\n",
    "    pickle.dump(mhw_dict, outf)"
   ]
  },
  {
   "cell_type": "code",
   "execution_count": null,
   "metadata": {},
   "outputs": [],
   "source": [
    "#as dataframe\n",
    "df = pd.DataFrame(mhw_dict)\n",
    "df = df.transpose()\n",
    "df.to_csv(save_dict_path, index=False)"
   ]
  }
 ],
 "metadata": {
  "kernelspec": {
   "display_name": "tmp_model_prod",
   "language": "python",
   "name": "python3"
  },
  "language_info": {
   "codemirror_mode": {
    "name": "ipython",
    "version": 3
   },
   "file_extension": ".py",
   "mimetype": "text/x-python",
   "name": "python",
   "nbconvert_exporter": "python",
   "pygments_lexer": "ipython3",
   "version": "3.1.-1"
  }
 },
 "nbformat": 4,
 "nbformat_minor": 2
}
