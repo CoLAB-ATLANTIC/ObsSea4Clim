{
 "cells": [
  {
   "cell_type": "code",
   "execution_count": 44,
   "metadata": {},
   "outputs": [],
   "source": [
    "%run video_utils.py\n",
    "%run plot_events_functions.py"
   ]
  },
  {
   "cell_type": "code",
   "execution_count": 45,
   "metadata": {},
   "outputs": [],
   "source": [
    "#init variable storage class\n",
    "vars = VariableStorage()"
   ]
  },
  {
   "cell_type": "markdown",
   "metadata": {},
   "source": [
    "Define folder for detected mhw netcdf files and the original mhw intensity netcdf files"
   ]
  },
  {
   "cell_type": "code",
   "execution_count": 46,
   "metadata": {},
   "outputs": [],
   "source": [
    "vars.mhw_zones_folder = '/home/joaop/dev/JP/PROJECTS/MHW_DETECTION/ObsSea4Clim-MHW_3D_Detection/data/output/events/'\n",
    "vars.mhw_intensity_folder = '/media/data_HDD/joaop/MHW_detection/data/mhw_hobday_data/'\n",
    "\n",
    "vars.mask_fullpath = '/media/data_HDD/joaop/MHW_detection/data/masks_NA/mask_10N_80N_90W_70E.nc'\n",
    "vars.longhurst_path = '/home/joaop/dev/JP/PROVINCES/'+'NA_longhurst.shp'\n",
    "\n",
    "vars.output_video_path = '/home/joaop/dev/JP/PROJECTS/MHW_DETECTION/ObsSea4Clim-MHW_3D_Detection/ppt_videos/'"
   ]
  },
  {
   "cell_type": "markdown",
   "metadata": {},
   "source": [
    "Video Parameters"
   ]
  },
  {
   "cell_type": "code",
   "execution_count": 47,
   "metadata": {},
   "outputs": [],
   "source": [
    "#downsample video for faster rendering: (lat, lon)=(1000/downsample_ratio, 2000/downsample_ratio)\n",
    "vars.downsample_ratio=1\n",
    "#frames per second\n",
    "vars.fps=5"
   ]
  },
  {
   "cell_type": "markdown",
   "metadata": {},
   "source": [
    "Choose the mhw ID you want to render "
   ]
  },
  {
   "cell_type": "code",
   "execution_count": 48,
   "metadata": {},
   "outputs": [
    {
     "data": {
      "text/plain": [
       "\" #mhw possible keys:\\nfile_list = impf.get_files_with_substring(vars.mhw_zones_folder, '.nc')\\nID_list= [os.path.splitext(filename)[0] for filename in file_list]\\n\\n#filter files by year and sort\\nID_list = filter_files_by_year(ID_list, start_year=2017, end_year=2019)\\nID_list = sorted(ID_list, key=lambda x: int(x.split('_')[-1]))\\n\\nvars.ID='NASW_POS_2018_MAR_000224' # or ID_list[some_index] \""
      ]
     },
     "execution_count": 48,
     "metadata": {},
     "output_type": "execute_result"
    }
   ],
   "source": [
    "\"\"\" #mhw possible keys:\n",
    "file_list = impf.get_files_with_substring(vars.mhw_zones_folder, '.nc')\n",
    "ID_list= [os.path.splitext(filename)[0] for filename in file_list]\n",
    "\n",
    "#filter files by year and sort\n",
    "ID_list = filter_files_by_year(ID_list, start_year=2017, end_year=2019)\n",
    "ID_list = sorted(ID_list, key=lambda x: int(x.split('_')[-1]))\n",
    "\n",
    "vars.ID='NASW_POS_2018_MAR_000224' # or ID_list[some_index] \"\"\""
   ]
  },
  {
   "cell_type": "markdown",
   "metadata": {},
   "source": [
    "Create Video (For one MHW)"
   ]
  },
  {
   "cell_type": "code",
   "execution_count": 49,
   "metadata": {},
   "outputs": [],
   "source": [
    "#create_one_mhw_video(vars)"
   ]
  },
  {
   "cell_type": "markdown",
   "metadata": {},
   "source": [
    "Create Video with all mhws in a specific time period"
   ]
  },
  {
   "cell_type": "code",
   "execution_count": 50,
   "metadata": {},
   "outputs": [
    {
     "data": {
      "text/plain": [
       "['/home/joaop/dev/JP/PROJECTS/MHW_DETECTION/ObsSea4Clim-MHW_3D_Detection/data/output/events/EV_000020_MAR_2018.nc',\n",
       " '/home/joaop/dev/JP/PROJECTS/MHW_DETECTION/ObsSea4Clim-MHW_3D_Detection/data/output/events/EV_000102_DEC_2018.nc',\n",
       " '/home/joaop/dev/JP/PROJECTS/MHW_DETECTION/ObsSea4Clim-MHW_3D_Detection/data/output/events/EV_000035_MAY_2018.nc',\n",
       " '/home/joaop/dev/JP/PROJECTS/MHW_DETECTION/ObsSea4Clim-MHW_3D_Detection/data/output/events/EV_000062_JUL_2018.nc',\n",
       " '/home/joaop/dev/JP/PROJECTS/MHW_DETECTION/ObsSea4Clim-MHW_3D_Detection/data/output/events/EV_000080_SEP_2018.nc',\n",
       " '/home/joaop/dev/JP/PROJECTS/MHW_DETECTION/ObsSea4Clim-MHW_3D_Detection/data/output/events/EV_000025_MAR_2018.nc',\n",
       " '/home/joaop/dev/JP/PROJECTS/MHW_DETECTION/ObsSea4Clim-MHW_3D_Detection/data/output/events/EV_000060_JUL_2018.nc',\n",
       " '/home/joaop/dev/JP/PROJECTS/MHW_DETECTION/ObsSea4Clim-MHW_3D_Detection/data/output/events/EV_000093_NOV_2018.nc',\n",
       " '/home/joaop/dev/JP/PROJECTS/MHW_DETECTION/ObsSea4Clim-MHW_3D_Detection/data/output/events/EV_000071_AUG_2018.nc',\n",
       " '/home/joaop/dev/JP/PROJECTS/MHW_DETECTION/ObsSea4Clim-MHW_3D_Detection/data/output/events/EV_000037_MAY_2018.nc',\n",
       " '/home/joaop/dev/JP/PROJECTS/MHW_DETECTION/ObsSea4Clim-MHW_3D_Detection/data/output/events/EV_000095_NOV_2018.nc',\n",
       " '/home/joaop/dev/JP/PROJECTS/MHW_DETECTION/ObsSea4Clim-MHW_3D_Detection/data/output/events/EV_000004_JAN_2018.nc',\n",
       " '/home/joaop/dev/JP/PROJECTS/MHW_DETECTION/ObsSea4Clim-MHW_3D_Detection/data/output/events/EV_000001_JAN_2018.nc',\n",
       " '/home/joaop/dev/JP/PROJECTS/MHW_DETECTION/ObsSea4Clim-MHW_3D_Detection/data/output/events/EV_000054_JUN_2018.nc',\n",
       " '/home/joaop/dev/JP/PROJECTS/MHW_DETECTION/ObsSea4Clim-MHW_3D_Detection/data/output/events/EV_000084_OCT_2018.nc',\n",
       " '/home/joaop/dev/JP/PROJECTS/MHW_DETECTION/ObsSea4Clim-MHW_3D_Detection/data/output/events/EV_000041_MAY_2018.nc',\n",
       " '/home/joaop/dev/JP/PROJECTS/MHW_DETECTION/ObsSea4Clim-MHW_3D_Detection/data/output/events/EV_000077_SEP_2018.nc',\n",
       " '/home/joaop/dev/JP/PROJECTS/MHW_DETECTION/ObsSea4Clim-MHW_3D_Detection/data/output/events/EV_000082_SEP_2018.nc',\n",
       " '/home/joaop/dev/JP/PROJECTS/MHW_DETECTION/ObsSea4Clim-MHW_3D_Detection/data/output/events/EV_000018_FEB_2018.nc',\n",
       " '/home/joaop/dev/JP/PROJECTS/MHW_DETECTION/ObsSea4Clim-MHW_3D_Detection/data/output/events/EV_000007_JAN_2018.nc',\n",
       " '/home/joaop/dev/JP/PROJECTS/MHW_DETECTION/ObsSea4Clim-MHW_3D_Detection/data/output/events/EV_000073_AUG_2018.nc',\n",
       " '/home/joaop/dev/JP/PROJECTS/MHW_DETECTION/ObsSea4Clim-MHW_3D_Detection/data/output/events/EV_000088_OCT_2018.nc',\n",
       " '/home/joaop/dev/JP/PROJECTS/MHW_DETECTION/ObsSea4Clim-MHW_3D_Detection/data/output/events/EV_000046_JUN_2018.nc',\n",
       " '/home/joaop/dev/JP/PROJECTS/MHW_DETECTION/ObsSea4Clim-MHW_3D_Detection/data/output/events/EV_000105_DEC_2018.nc',\n",
       " '/home/joaop/dev/JP/PROJECTS/MHW_DETECTION/ObsSea4Clim-MHW_3D_Detection/data/output/events/EV_000081_SEP_2018.nc',\n",
       " '/home/joaop/dev/JP/PROJECTS/MHW_DETECTION/ObsSea4Clim-MHW_3D_Detection/data/output/events/EV_000058_JUL_2018.nc',\n",
       " '/home/joaop/dev/JP/PROJECTS/MHW_DETECTION/ObsSea4Clim-MHW_3D_Detection/data/output/events/EV_000049_JUN_2018.nc',\n",
       " '/home/joaop/dev/JP/PROJECTS/MHW_DETECTION/ObsSea4Clim-MHW_3D_Detection/data/output/events/EV_000098_NOV_2018.nc',\n",
       " '/home/joaop/dev/JP/PROJECTS/MHW_DETECTION/ObsSea4Clim-MHW_3D_Detection/data/output/events/EV_000067_JUL_2018.nc',\n",
       " '/home/joaop/dev/JP/PROJECTS/MHW_DETECTION/ObsSea4Clim-MHW_3D_Detection/data/output/events/EV_000099_NOV_2018.nc',\n",
       " '/home/joaop/dev/JP/PROJECTS/MHW_DETECTION/ObsSea4Clim-MHW_3D_Detection/data/output/events/EV_000072_AUG_2018.nc',\n",
       " '/home/joaop/dev/JP/PROJECTS/MHW_DETECTION/ObsSea4Clim-MHW_3D_Detection/data/output/events/EV_000107_DEC_2018.nc',\n",
       " '/home/joaop/dev/JP/PROJECTS/MHW_DETECTION/ObsSea4Clim-MHW_3D_Detection/data/output/events/EV_000029_APR_2018.nc',\n",
       " '/home/joaop/dev/JP/PROJECTS/MHW_DETECTION/ObsSea4Clim-MHW_3D_Detection/data/output/events/EV_000064_JUL_2018.nc',\n",
       " '/home/joaop/dev/JP/PROJECTS/MHW_DETECTION/ObsSea4Clim-MHW_3D_Detection/data/output/events/EV_000052_JUN_2018.nc',\n",
       " '/home/joaop/dev/JP/PROJECTS/MHW_DETECTION/ObsSea4Clim-MHW_3D_Detection/data/output/events/EV_000023_MAR_2018.nc',\n",
       " '/home/joaop/dev/JP/PROJECTS/MHW_DETECTION/ObsSea4Clim-MHW_3D_Detection/data/output/events/EV_000030_APR_2018.nc',\n",
       " '/home/joaop/dev/JP/PROJECTS/MHW_DETECTION/ObsSea4Clim-MHW_3D_Detection/data/output/events/EV_000096_NOV_2018.nc',\n",
       " '/home/joaop/dev/JP/PROJECTS/MHW_DETECTION/ObsSea4Clim-MHW_3D_Detection/data/output/events/EV_000086_OCT_2018.nc',\n",
       " '/home/joaop/dev/JP/PROJECTS/MHW_DETECTION/ObsSea4Clim-MHW_3D_Detection/data/output/events/EV_000091_OCT_2018.nc',\n",
       " '/home/joaop/dev/JP/PROJECTS/MHW_DETECTION/ObsSea4Clim-MHW_3D_Detection/data/output/events/EV_000106_DEC_2018.nc',\n",
       " '/home/joaop/dev/JP/PROJECTS/MHW_DETECTION/ObsSea4Clim-MHW_3D_Detection/data/output/events/EV_000056_JUL_2018.nc',\n",
       " '/home/joaop/dev/JP/PROJECTS/MHW_DETECTION/ObsSea4Clim-MHW_3D_Detection/data/output/events/EV_000045_JUN_2018.nc',\n",
       " '/home/joaop/dev/JP/PROJECTS/MHW_DETECTION/ObsSea4Clim-MHW_3D_Detection/data/output/events/EV_000010_JAN_2018.nc',\n",
       " '/home/joaop/dev/JP/PROJECTS/MHW_DETECTION/ObsSea4Clim-MHW_3D_Detection/data/output/events/EV_000092_OCT_2018.nc',\n",
       " '/home/joaop/dev/JP/PROJECTS/MHW_DETECTION/ObsSea4Clim-MHW_3D_Detection/data/output/events/EV_000059_JUL_2018.nc',\n",
       " '/home/joaop/dev/JP/PROJECTS/MHW_DETECTION/ObsSea4Clim-MHW_3D_Detection/data/output/events/EV_000014_FEB_2018.nc',\n",
       " '/home/joaop/dev/JP/PROJECTS/MHW_DETECTION/ObsSea4Clim-MHW_3D_Detection/data/output/events/EV_000009_JAN_2018.nc',\n",
       " '/home/joaop/dev/JP/PROJECTS/MHW_DETECTION/ObsSea4Clim-MHW_3D_Detection/data/output/events/EV_000083_SEP_2018.nc',\n",
       " '/home/joaop/dev/JP/PROJECTS/MHW_DETECTION/ObsSea4Clim-MHW_3D_Detection/data/output/events/EV_000050_JUN_2018.nc',\n",
       " '/home/joaop/dev/JP/PROJECTS/MHW_DETECTION/ObsSea4Clim-MHW_3D_Detection/data/output/events/EV_000026_MAR_2018.nc',\n",
       " '/home/joaop/dev/JP/PROJECTS/MHW_DETECTION/ObsSea4Clim-MHW_3D_Detection/data/output/events/EV_000094_NOV_2018.nc',\n",
       " '/home/joaop/dev/JP/PROJECTS/MHW_DETECTION/ObsSea4Clim-MHW_3D_Detection/data/output/events/EV_000017_FEB_2018.nc',\n",
       " '/home/joaop/dev/JP/PROJECTS/MHW_DETECTION/ObsSea4Clim-MHW_3D_Detection/data/output/events/EV_000089_OCT_2018.nc',\n",
       " '/home/joaop/dev/JP/PROJECTS/MHW_DETECTION/ObsSea4Clim-MHW_3D_Detection/data/output/events/EV_000100_NOV_2018.nc',\n",
       " '/home/joaop/dev/JP/PROJECTS/MHW_DETECTION/ObsSea4Clim-MHW_3D_Detection/data/output/events/EV_000038_MAY_2018.nc',\n",
       " '/home/joaop/dev/JP/PROJECTS/MHW_DETECTION/ObsSea4Clim-MHW_3D_Detection/data/output/events/EV_000097_NOV_2018.nc',\n",
       " '/home/joaop/dev/JP/PROJECTS/MHW_DETECTION/ObsSea4Clim-MHW_3D_Detection/data/output/events/EV_000044_JUN_2018.nc',\n",
       " '/home/joaop/dev/JP/PROJECTS/MHW_DETECTION/ObsSea4Clim-MHW_3D_Detection/data/output/events/EV_000075_AUG_2018.nc',\n",
       " '/home/joaop/dev/JP/PROJECTS/MHW_DETECTION/ObsSea4Clim-MHW_3D_Detection/data/output/events/EV_000053_JUN_2018.nc',\n",
       " '/home/joaop/dev/JP/PROJECTS/MHW_DETECTION/ObsSea4Clim-MHW_3D_Detection/data/output/events/EV_000048_JUN_2018.nc',\n",
       " '/home/joaop/dev/JP/PROJECTS/MHW_DETECTION/ObsSea4Clim-MHW_3D_Detection/data/output/events/EV_000032_APR_2018.nc',\n",
       " '/home/joaop/dev/JP/PROJECTS/MHW_DETECTION/ObsSea4Clim-MHW_3D_Detection/data/output/events/EV_000065_JUL_2018.nc',\n",
       " '/home/joaop/dev/JP/PROJECTS/MHW_DETECTION/ObsSea4Clim-MHW_3D_Detection/data/output/events/EV_000016_FEB_2018.nc',\n",
       " '/home/joaop/dev/JP/PROJECTS/MHW_DETECTION/ObsSea4Clim-MHW_3D_Detection/data/output/events/EV_000005_JAN_2018.nc',\n",
       " '/home/joaop/dev/JP/PROJECTS/MHW_DETECTION/ObsSea4Clim-MHW_3D_Detection/data/output/events/EV_000015_FEB_2018.nc',\n",
       " '/home/joaop/dev/JP/PROJECTS/MHW_DETECTION/ObsSea4Clim-MHW_3D_Detection/data/output/events/EV_000087_OCT_2018.nc',\n",
       " '/home/joaop/dev/JP/PROJECTS/MHW_DETECTION/ObsSea4Clim-MHW_3D_Detection/data/output/events/EV_000006_JAN_2018.nc',\n",
       " '/home/joaop/dev/JP/PROJECTS/MHW_DETECTION/ObsSea4Clim-MHW_3D_Detection/data/output/events/EV_000012_JAN_2018.nc',\n",
       " '/home/joaop/dev/JP/PROJECTS/MHW_DETECTION/ObsSea4Clim-MHW_3D_Detection/data/output/events/EV_000008_JAN_2018.nc',\n",
       " '/home/joaop/dev/JP/PROJECTS/MHW_DETECTION/ObsSea4Clim-MHW_3D_Detection/data/output/events/EV_000076_SEP_2018.nc',\n",
       " '/home/joaop/dev/JP/PROJECTS/MHW_DETECTION/ObsSea4Clim-MHW_3D_Detection/data/output/events/EV_000031_APR_2018.nc',\n",
       " '/home/joaop/dev/JP/PROJECTS/MHW_DETECTION/ObsSea4Clim-MHW_3D_Detection/data/output/events/EV_000011_JAN_2018.nc',\n",
       " '/home/joaop/dev/JP/PROJECTS/MHW_DETECTION/ObsSea4Clim-MHW_3D_Detection/data/output/events/EV_000040_MAY_2018.nc',\n",
       " '/home/joaop/dev/JP/PROJECTS/MHW_DETECTION/ObsSea4Clim-MHW_3D_Detection/data/output/events/EV_000085_OCT_2018.nc',\n",
       " '/home/joaop/dev/JP/PROJECTS/MHW_DETECTION/ObsSea4Clim-MHW_3D_Detection/data/output/events/EV_000070_AUG_2018.nc',\n",
       " '/home/joaop/dev/JP/PROJECTS/MHW_DETECTION/ObsSea4Clim-MHW_3D_Detection/data/output/events/EV_000078_SEP_2018.nc',\n",
       " '/home/joaop/dev/JP/PROJECTS/MHW_DETECTION/ObsSea4Clim-MHW_3D_Detection/data/output/events/EV_000057_JUL_2018.nc',\n",
       " '/home/joaop/dev/JP/PROJECTS/MHW_DETECTION/ObsSea4Clim-MHW_3D_Detection/data/output/events/EV_000034_MAY_2018.nc',\n",
       " '/home/joaop/dev/JP/PROJECTS/MHW_DETECTION/ObsSea4Clim-MHW_3D_Detection/data/output/events/EV_000055_JUN_2018.nc',\n",
       " '/home/joaop/dev/JP/PROJECTS/MHW_DETECTION/ObsSea4Clim-MHW_3D_Detection/data/output/events/EV_000027_APR_2018.nc',\n",
       " '/home/joaop/dev/JP/PROJECTS/MHW_DETECTION/ObsSea4Clim-MHW_3D_Detection/data/output/events/EV_000013_JAN_2018.nc',\n",
       " '/home/joaop/dev/JP/PROJECTS/MHW_DETECTION/ObsSea4Clim-MHW_3D_Detection/data/output/events/EV_000024_MAR_2018.nc',\n",
       " '/home/joaop/dev/JP/PROJECTS/MHW_DETECTION/ObsSea4Clim-MHW_3D_Detection/data/output/events/EV_000090_OCT_2018.nc',\n",
       " '/home/joaop/dev/JP/PROJECTS/MHW_DETECTION/ObsSea4Clim-MHW_3D_Detection/data/output/events/EV_000047_JUN_2018.nc',\n",
       " '/home/joaop/dev/JP/PROJECTS/MHW_DETECTION/ObsSea4Clim-MHW_3D_Detection/data/output/events/EV_000043_JUN_2018.nc',\n",
       " '/home/joaop/dev/JP/PROJECTS/MHW_DETECTION/ObsSea4Clim-MHW_3D_Detection/data/output/events/EV_000051_JUN_2018.nc',\n",
       " '/home/joaop/dev/JP/PROJECTS/MHW_DETECTION/ObsSea4Clim-MHW_3D_Detection/data/output/events/EV_000033_MAY_2018.nc',\n",
       " '/home/joaop/dev/JP/PROJECTS/MHW_DETECTION/ObsSea4Clim-MHW_3D_Detection/data/output/events/EV_000101_DEC_2018.nc',\n",
       " '/home/joaop/dev/JP/PROJECTS/MHW_DETECTION/ObsSea4Clim-MHW_3D_Detection/data/output/events/EV_000104_DEC_2018.nc',\n",
       " '/home/joaop/dev/JP/PROJECTS/MHW_DETECTION/ObsSea4Clim-MHW_3D_Detection/data/output/events/EV_000074_AUG_2018.nc',\n",
       " '/home/joaop/dev/JP/PROJECTS/MHW_DETECTION/ObsSea4Clim-MHW_3D_Detection/data/output/events/EV_000028_APR_2018.nc',\n",
       " '/home/joaop/dev/JP/PROJECTS/MHW_DETECTION/ObsSea4Clim-MHW_3D_Detection/data/output/events/EV_000021_MAR_2018.nc',\n",
       " '/home/joaop/dev/JP/PROJECTS/MHW_DETECTION/ObsSea4Clim-MHW_3D_Detection/data/output/events/EV_000079_SEP_2018.nc',\n",
       " '/home/joaop/dev/JP/PROJECTS/MHW_DETECTION/ObsSea4Clim-MHW_3D_Detection/data/output/events/EV_000039_MAY_2018.nc',\n",
       " '/home/joaop/dev/JP/PROJECTS/MHW_DETECTION/ObsSea4Clim-MHW_3D_Detection/data/output/events/EV_000002_JAN_2018.nc',\n",
       " '/home/joaop/dev/JP/PROJECTS/MHW_DETECTION/ObsSea4Clim-MHW_3D_Detection/data/output/events/EV_000061_JUL_2018.nc',\n",
       " '/home/joaop/dev/JP/PROJECTS/MHW_DETECTION/ObsSea4Clim-MHW_3D_Detection/data/output/events/EV_000042_MAY_2018.nc',\n",
       " '/home/joaop/dev/JP/PROJECTS/MHW_DETECTION/ObsSea4Clim-MHW_3D_Detection/data/output/events/EV_000019_MAR_2018.nc',\n",
       " '/home/joaop/dev/JP/PROJECTS/MHW_DETECTION/ObsSea4Clim-MHW_3D_Detection/data/output/events/EV_000103_DEC_2018.nc',\n",
       " '/home/joaop/dev/JP/PROJECTS/MHW_DETECTION/ObsSea4Clim-MHW_3D_Detection/data/output/events/EV_000069_AUG_2018.nc',\n",
       " '/home/joaop/dev/JP/PROJECTS/MHW_DETECTION/ObsSea4Clim-MHW_3D_Detection/data/output/events/EV_000003_JAN_2018.nc',\n",
       " '/home/joaop/dev/JP/PROJECTS/MHW_DETECTION/ObsSea4Clim-MHW_3D_Detection/data/output/events/EV_000022_MAR_2018.nc',\n",
       " '/home/joaop/dev/JP/PROJECTS/MHW_DETECTION/ObsSea4Clim-MHW_3D_Detection/data/output/events/EV_000063_JUL_2018.nc',\n",
       " '/home/joaop/dev/JP/PROJECTS/MHW_DETECTION/ObsSea4Clim-MHW_3D_Detection/data/output/events/EV_000068_AUG_2018.nc',\n",
       " '/home/joaop/dev/JP/PROJECTS/MHW_DETECTION/ObsSea4Clim-MHW_3D_Detection/data/output/events/EV_000066_JUL_2018.nc',\n",
       " '/home/joaop/dev/JP/PROJECTS/MHW_DETECTION/ObsSea4Clim-MHW_3D_Detection/data/output/events/EV_000036_MAY_2018.nc']"
      ]
     },
     "execution_count": 50,
     "metadata": {},
     "output_type": "execute_result"
    }
   ],
   "source": [
    "import xarray as xr\n",
    "file_paths = get_files_with_substring(vars.mhw_zones_folder, 'EV')\n",
    "file_paths=[vars.mhw_zones_folder+filepath for filepath in file_paths]\n",
    "file_paths"
   ]
  },
  {
   "cell_type": "markdown",
   "metadata": {},
   "source": [
    "Define the year/date you want"
   ]
  },
  {
   "cell_type": "code",
   "execution_count": 51,
   "metadata": {},
   "outputs": [],
   "source": [
    "y=2018\n",
    "\n",
    "start_date = str(y)+'-01-01'\n",
    "end_date = str(y)+'-12-31'\n",
    "\n",
    "vars.ID = f'events_{start_date}_to_{end_date}'"
   ]
  },
  {
   "cell_type": "markdown",
   "metadata": {},
   "source": [
    "Run to get video for those dates"
   ]
  },
  {
   "cell_type": "code",
   "execution_count": 52,
   "metadata": {},
   "outputs": [
    {
     "name": "stdout",
     "output_type": "stream",
     "text": [
      "2018: 365 days\n"
     ]
    }
   ],
   "source": [
    "datasets, labels, IDs = load_and_filter_nc_files(file_paths, start_date, end_date)\n",
    "ds_zero_pad = create_zero_filled_netcdf(datasets[0], start_date, end_date)\n",
    "datasets.append(ds_zero_pad); del ds_zero_pad\n",
    "summed_data = sum_nc_datasets(datasets); del datasets\n",
    "print(f'{y}: {len(summed_data.time.values)} days')\n",
    "\n",
    "os.makedirs(vars.output_video_path, exist_ok=True)\n",
    "output_nc_path = vars.output_video_path+vars.ID+'.nc'\n",
    "if os.path.exists(output_nc_path): os.remove(output_nc_path)\n",
    "summed_data.to_netcdf(output_nc_path); summed_data.close()"
   ]
  },
  {
   "cell_type": "code",
   "execution_count": 63,
   "metadata": {},
   "outputs": [],
   "source": [
    "%run plot_events_functions.py"
   ]
  },
  {
   "cell_type": "code",
   "execution_count": null,
   "metadata": {},
   "outputs": [],
   "source": [
    "create_one_mhw_video(vars, labels=labels, IDs=IDs)\n",
    "#os.remove(output_nc_path)"
   ]
  },
  {
   "cell_type": "code",
   "execution_count": null,
   "metadata": {},
   "outputs": [
    {
     "name": "stdout",
     "output_type": "stream",
     "text": [
      "2018: 365 days\n"
     ]
    }
   ],
   "source": [
    "for y in range(2018, 2018+1):\n",
    "    start_date = str(y)+'-01-01'\n",
    "    end_date = str(y)+'-12-31'\n",
    "    \n",
    "    \"\"\" start_date = '2018-01-01'\n",
    "    end_date = '2018-02-01' \"\"\"\n",
    "    vars.ID = f'events_{start_date}_to_{end_date}'\n",
    "\n",
    "    datasets, labels, IDs = load_and_filter_nc_files(file_paths, start_date, end_date)\n",
    "    ds_zero_pad = create_zero_filled_netcdf(datasets[0], start_date, end_date)\n",
    "    datasets.append(ds_zero_pad); del ds_zero_pad\n",
    "    summed_data = sum_nc_datasets(datasets)\n",
    "    print(f'{y}: {len(summed_data.time.values)} days')\n",
    "    \n",
    "    for ds in datasets: ds.close()\n",
    "    del datasets\n",
    "\n",
    "    # Convert summed_data to a 3D numpy array for video creation\n",
    "    #data_array = summed_data.to_array().values[0] #é preciso?????\n",
    "\n",
    "    output_nc_path = vars.output_video_path+vars.ID+'.nc'\n",
    "    if os.path.exists(output_nc_path): os.remove(output_nc_path)\n",
    "    summed_data.to_netcdf(output_nc_path); summed_data.close()\n",
    "    \n",
    "    create_one_mhw_video(vars, labels=labels, IDs=IDs, interp=False)\n",
    "    os.remove(output_nc_path)"
   ]
  }
 ],
 "metadata": {
  "kernelspec": {
   "display_name": "obssea4clim",
   "language": "python",
   "name": "python3"
  },
  "language_info": {
   "codemirror_mode": {
    "name": "ipython",
    "version": 3
   },
   "file_extension": ".py",
   "mimetype": "text/x-python",
   "name": "python",
   "nbconvert_exporter": "python",
   "pygments_lexer": "ipython3",
   "version": "3.10.16"
  }
 },
 "nbformat": 4,
 "nbformat_minor": 2
}
