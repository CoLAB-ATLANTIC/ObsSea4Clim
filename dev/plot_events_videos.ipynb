{
 "cells": [
  {
   "cell_type": "code",
   "execution_count": 3,
   "metadata": {},
   "outputs": [],
   "source": [
    "%run video_utils.py\n",
    "%run plot_events_functions.py"
   ]
  },
  {
   "cell_type": "code",
   "execution_count": 4,
   "metadata": {},
   "outputs": [],
   "source": [
    "#init variable storage class\n",
    "vars = VariableStorage()"
   ]
  },
  {
   "cell_type": "markdown",
   "metadata": {},
   "source": [
    "Define folder for detected mhw netcdf files and the original mhw intensity netcdf files"
   ]
  },
  {
   "cell_type": "code",
   "execution_count": 5,
   "metadata": {},
   "outputs": [],
   "source": [
    "vars.mhw_zones_folder = '/home/joaop/dev/JP/PROJECTS/MHW_DETECTION/ObsSea4Clim-MHW_3D_Detection/for_XHEAT/events_mhw/'\n",
    "vars.mhw_intensity_folder = '/media/data_HDD/joaop/MHW_detection/data/mhw_hobday_data/'\n",
    "\n",
    "vars.mask_fullpath = '/media/data_HDD/joaop/MHW_detection/data/masks_NA/mask_10N_80N_90W_70E.nc'\n",
    "vars.longhurst_path = '/home/joaop/dev/JP/PROVINCES/'+'NA_longhurst.shp'\n",
    "\n",
    "vars.output_video_path = '/home/joaop/dev/JP/PROJECTS/MHW_DETECTION/ObsSea4Clim-MHW_3D_Detection/for_XHEAT/videos/'"
   ]
  },
  {
   "cell_type": "markdown",
   "metadata": {},
   "source": [
    "Video Parameters"
   ]
  },
  {
   "cell_type": "code",
   "execution_count": 6,
   "metadata": {},
   "outputs": [],
   "source": [
    "#downsample video for faster rendering: (lat, lon)=(1000/downsample_ratio, 2000/downsample_ratio)\n",
    "vars.downsample_ratio=1\n",
    "#frames per second\n",
    "vars.fps=5"
   ]
  },
  {
   "cell_type": "markdown",
   "metadata": {},
   "source": [
    "Choose the mhw ID you want to render "
   ]
  },
  {
   "cell_type": "code",
   "execution_count": 7,
   "metadata": {},
   "outputs": [
    {
     "data": {
      "text/plain": [
       "\" #mhw possible keys:\\nfile_list = impf.get_files_with_substring(vars.mhw_zones_folder, '.nc')\\nID_list= [os.path.splitext(filename)[0] for filename in file_list]\\n\\n#filter files by year and sort\\nID_list = filter_files_by_year(ID_list, start_year=2017, end_year=2019)\\nID_list = sorted(ID_list, key=lambda x: int(x.split('_')[-1]))\\n\\nvars.ID='NASW_POS_2018_MAR_000224' # or ID_list[some_index] \""
      ]
     },
     "execution_count": 7,
     "metadata": {},
     "output_type": "execute_result"
    }
   ],
   "source": [
    "\"\"\" #mhw possible keys:\n",
    "file_list = impf.get_files_with_substring(vars.mhw_zones_folder, '.nc')\n",
    "ID_list= [os.path.splitext(filename)[0] for filename in file_list]\n",
    "\n",
    "#filter files by year and sort\n",
    "ID_list = filter_files_by_year(ID_list, start_year=2017, end_year=2019)\n",
    "ID_list = sorted(ID_list, key=lambda x: int(x.split('_')[-1]))\n",
    "\n",
    "vars.ID='NASW_POS_2018_MAR_000224' # or ID_list[some_index] \"\"\""
   ]
  },
  {
   "cell_type": "markdown",
   "metadata": {},
   "source": [
    "Create Video (For one MHW)"
   ]
  },
  {
   "cell_type": "code",
   "execution_count": 8,
   "metadata": {},
   "outputs": [],
   "source": [
    "#create_one_mhw_video(vars)"
   ]
  },
  {
   "cell_type": "markdown",
   "metadata": {},
   "source": [
    "Create Video with all mhws in a specific time period"
   ]
  },
  {
   "cell_type": "code",
   "execution_count": 9,
   "metadata": {},
   "outputs": [],
   "source": [
    "import xarray as xr\n",
    "file_paths = get_files_with_substring(vars.mhw_zones_folder, 'EV')\n",
    "file_paths=[vars.mhw_zones_folder+filepath for filepath in file_paths]"
   ]
  },
  {
   "cell_type": "markdown",
   "metadata": {},
   "source": [
    "Define the year/date you want"
   ]
  },
  {
   "cell_type": "code",
   "execution_count": 10,
   "metadata": {},
   "outputs": [],
   "source": [
    "y=2018\n",
    "\n",
    "start_date = str(y)+'-01-01'\n",
    "end_date = str(y)+'-12-31'\n",
    "\n",
    "vars.ID = f'Events_{start_date}_to_{end_date}'"
   ]
  },
  {
   "cell_type": "code",
   "execution_count": 11,
   "metadata": {},
   "outputs": [
    {
     "data": {
      "text/plain": [
       "datetime.timedelta(days=109)"
      ]
     },
     "execution_count": 11,
     "metadata": {},
     "output_type": "execute_result"
    }
   ],
   "source": [
    "from datetime import datetime\n",
    "mid_date = str(y)+'-04-20'\n",
    "datetime.strptime(mid_date, '%Y-%m-%d')-datetime.strptime(start_date, '%Y-%m-%d')"
   ]
  },
  {
   "cell_type": "markdown",
   "metadata": {},
   "source": [
    "Run to get video for those dates"
   ]
  },
  {
   "cell_type": "code",
   "execution_count": 12,
   "metadata": {},
   "outputs": [
    {
     "name": "stdout",
     "output_type": "stream",
     "text": [
      "2018: 365 days\n"
     ]
    }
   ],
   "source": [
    "datasets, labels, IDs = load_and_filter_nc_files(file_paths, start_date, end_date)\n",
    "ds_zero_pad = create_zero_filled_netcdf(datasets[0], start_date, end_date)\n",
    "datasets.append(ds_zero_pad); del ds_zero_pad\n",
    "summed_data = sum_nc_datasets(datasets); del datasets\n",
    "print(f'{y}: {len(summed_data.time.values)} days')\n",
    "\n",
    "os.makedirs(vars.output_video_path, exist_ok=True)\n",
    "output_nc_path = vars.output_video_path+vars.ID+'.nc'\n",
    "if os.path.exists(output_nc_path): os.remove(output_nc_path)\n",
    "summed_data.to_netcdf(output_nc_path); summed_data.close()"
   ]
  },
  {
   "cell_type": "code",
   "execution_count": 13,
   "metadata": {},
   "outputs": [],
   "source": [
    "%run plot_events_functions.py"
   ]
  },
  {
   "cell_type": "code",
   "execution_count": 13,
   "metadata": {},
   "outputs": [],
   "source": [
    "create_one_mhw_video(vars, labels=labels, IDs=IDs)\n",
    "#os.remove(output_nc_path)"
   ]
  },
  {
   "cell_type": "code",
   "execution_count": null,
   "metadata": {},
   "outputs": [],
   "source": [
    "for y in range(2017, 2017+1):\n",
    "    start_date = str(y)+'-01-01'\n",
    "    end_date = str(y)+'-12-31'\n",
    "    \n",
    "    \"\"\" start_date = '2018-01-01'\n",
    "    end_date = '2018-02-01' \"\"\"\n",
    "    vars.ID = f'events_{start_date}_to_{end_date}'\n",
    "\n",
    "    datasets, labels, IDs = load_and_filter_nc_files(file_paths, start_date, end_date)\n",
    "    ds_zero_pad = create_zero_filled_netcdf(datasets[0], start_date, end_date)\n",
    "    datasets.append(ds_zero_pad); del ds_zero_pad\n",
    "    summed_data = sum_nc_datasets(datasets)\n",
    "    print(f'{y}: {len(summed_data.time.values)} days')\n",
    "    \n",
    "    for ds in datasets: ds.close()\n",
    "    del datasets\n",
    "\n",
    "    # Convert summed_data to a 3D numpy array for video creation\n",
    "    #data_array = summed_data.to_array().values[0] #é preciso?????\n",
    "\n",
    "    output_nc_path = vars.output_video_path+vars.ID+'.nc'\n",
    "    if os.path.exists(output_nc_path): os.remove(output_nc_path)\n",
    "    summed_data.to_netcdf(output_nc_path); summed_data.close()\n",
    "    \n",
    "    create_one_mhw_video(vars, labels=labels, IDs=IDs)\n",
    "    os.remove(output_nc_path)"
   ]
  }
 ],
 "metadata": {
  "kernelspec": {
   "display_name": "obssea4clim",
   "language": "python",
   "name": "python3"
  },
  "language_info": {
   "codemirror_mode": {
    "name": "ipython",
    "version": 3
   },
   "file_extension": ".py",
   "mimetype": "text/x-python",
   "name": "python",
   "nbconvert_exporter": "python",
   "pygments_lexer": "ipython3",
   "version": "3.10.16"
  }
 },
 "nbformat": 4,
 "nbformat_minor": 2
}
